{
 "cells": [
  {
   "cell_type": "code",
   "execution_count": null,
   "metadata": {},
   "outputs": [],
   "source": [
    "# library\n",
    "from mpl_toolkits.mplot3d import Axes3D\n",
    "import matplotlib.pyplot as plt\n",
    "import pandas as pd\n",
    "import seaborn as sns\n",
    " \n",
    "# Get the data (csv file is hosted on the web)\n",
    "url = 'https://opendata.ecdc.europa.eu/covid19/casedistribution/csv'\n",
    "data = pd.read_csv(url)\n",
    " \n",
    "# Transform it to a long format\n",
    "df=data.unstack().reset_index()\n",
    "df.columns=[\"X\",\"Y\",\"Z\"]\n",
    " \n",
    "# And transform the old column name in something numeric\n",
    "df['X']=pd.Categorical(df['X'])\n",
    "df['X']=df['X'].cat.codes\n",
    " \n",
    "# Make the plot\n",
    "fig = plt.figure()\n",
    "ax = fig.gca(projection='3d')\n",
    "ax.plot_trisurf(df['Y'], df['X'], df['Z'], cmap=plt.cm.viridis, linewidth=0.2)\n",
    "plt.show()\n",
    " \n",
    "# to Add a color bar which maps values to colors.\n",
    "surf=ax.plot_trisurf(df['Y'], df['X'], df['Z'], cmap=plt.cm.viridis, linewidth=0.2)\n",
    "fig.colorbar( surf, shrink=0.5, aspect=5)\n",
    "plt.show()\n",
    " \n",
    "# Rotate it\n",
    "ax.view_init(30, 45)\n",
    "plt.show()\n",
    " \n",
    "# Other palette\n",
    "ax.plot_trisurf(df['Y'], df['X'], df['Z'], cmap=plt.cm.jet, linewidth=0.01)\n",
    "plt.show()"
   ]
  }
 ],
 "metadata": {
  "kernelspec": {
   "display_name": "Python 3",
   "language": "python",
   "name": "python3"
  },
  "language_info": {
   "codemirror_mode": {
    "name": "ipython",
    "version": 3
   },
   "file_extension": ".py",
   "mimetype": "text/x-python",
   "name": "python",
   "nbconvert_exporter": "python",
   "pygments_lexer": "ipython3",
   "version": "3.6.10"
  }
 },
 "nbformat": 4,
 "nbformat_minor": 4
}
